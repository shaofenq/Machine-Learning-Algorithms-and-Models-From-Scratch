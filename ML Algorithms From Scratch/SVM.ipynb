{
 "cells": [
  {
   "cell_type": "code",
   "execution_count": 2,
   "id": "bd121f80-e0bb-4773-98f9-199ee005cad3",
   "metadata": {},
   "outputs": [
    {
     "name": "stdout",
     "output_type": "stream",
     "text": [
      "Collecting cvxopt\n",
      "  Downloading cvxopt-1.3.0-cp39-cp39-macosx_10_9_x86_64.whl (3.1 MB)\n",
      "\u001b[2K     \u001b[90m━━━━━━━━━━━━━━━━━━━━━━━━━━━━━━━━━━━━━━━━\u001b[0m \u001b[32m3.1/3.1 MB\u001b[0m \u001b[31m7.3 MB/s\u001b[0m eta \u001b[36m0:00:00\u001b[0m00:01\u001b[0m00:01\u001b[0m\n",
      "\u001b[?25hInstalling collected packages: cvxopt\n",
      "Successfully installed cvxopt-1.3.0\n",
      "\u001b[33mWARNING: You are using pip version 22.0.4; however, version 22.3 is available.\n",
      "You should consider upgrading via the '/Users/qinshaofeng/opt/anaconda3/bin/python -m pip install --upgrade pip' command.\u001b[0m\u001b[33m\n",
      "\u001b[0m"
     ]
    }
   ],
   "source": [
    "!pip install cvxopt"
   ]
  },
  {
   "cell_type": "code",
   "execution_count": 164,
   "id": "80a111ee-b922-4b48-8135-60f84d9d07e2",
   "metadata": {},
   "outputs": [],
   "source": [
    "import numpy as np\n",
    "import matplotlib.pyplot as plt\n",
    "import math\n",
    "import os\n",
    "import cvxopt\n",
    "import time\n",
    "cvxopt.solvers.options['show_progress'] = False\n",
    "from cvxopt import matrix as cvxopt_matrix\n",
    "from cvxopt import solvers as cvxopt_solvers"
   ]
  },
  {
   "cell_type": "code",
   "execution_count": 241,
   "id": "5226fdcb-6755-4c47-8035-bb307b12a6c7",
   "metadata": {},
   "outputs": [],
   "source": [
    "def train_svm(X, y, C):\n",
    "    \"\"\"\n",
    "    Argument:\n",
    "      X: train_data: N*D matrix, each row as a sample and each column as a feature\n",
    "      y: train_label: N*1 vector, each row as a label\n",
    "      C: tradeoff parameter (on slack variable side)\n",
    "    Return:\n",
    "      w: feature vector (column vector)\n",
    "      b: bias term\n",
    "    \"\"\"\n",
    "    m, n = X.shape\n",
    "    # print(y.shape)\n",
    "    # print(X.shape)\n",
    "    # transform to float\n",
    "    y = y.reshape(-1,1)*(1.0)\n",
    "    \n",
    "    \n",
    "    # compute H = y*X X^T y^T\n",
    "    X_composed = y*X\n",
    "    H = np.dot(X_composed, X_composed.T)*(1.0)\n",
    "    \n",
    "    # compute P, q, G, h, A, b for cvxopt formation\n",
    "    P = cvxopt.matrix(H)\n",
    "    \n",
    "    q = cvxopt.matrix(-np.ones((m,1)))\n",
    "    \n",
    "\n",
    "    G = cvxopt.matrix(np.vstack((np.eye(m),np.eye(m)*(-1))))\n",
    "    h = cvxopt.matrix(np.hstack((np.ones(m)*C, np.zeros(m))))\n",
    "    \n",
    "    A = cvxopt.matrix(y.reshape(1,-1))\n",
    "    \n",
    "    b = cvxopt.matrix(np.zeros(1))\n",
    "    \n",
    "    # define the quadratic solver\n",
    "    # print(len(A))\n",
    "    #print(X.shape())\n",
    "    \n",
    "    solution = cvxopt_solvers.qp(P, q , G, h, A, b)\n",
    "    \n",
    "    alphas = np.array(solution['x'])\n",
    "\n",
    "    \n",
    "    \n",
    "    w = ((y*alphas).T @ X).reshape(-1,1)\n",
    "    # set up threshold\n",
    "    idx = (alphas > 1e-4).flatten()\n",
    "    b = y[idx] - np.dot(X[idx], w)\n",
    "\n",
    "    return w, b[0]\n",
    "\n",
    "\n",
    "def test_svm(test_data, test_label, w, b):\n",
    "    \"\"\"\n",
    "    Argument:\n",
    "      test_data: M*D matrix, each row as a sample and each column as a feature\n",
    "      test_label: M*1 vector, each row as a label\n",
    "      w: feature vector\n",
    "      b: bias term\n",
    "    Return:\n",
    "      test_accuracy: a float between [0, 1] representing the test accuracy\n",
    "    \"\"\"\n",
    "    m = np.size(test_data, 0)\n",
    "    count = 0\n",
    "    \n",
    "    for i in range(m):\n",
    "        prediction = (test_data[i, :].dot(w)) + b\n",
    "        if prediction >= 0:\n",
    "            label = 1.0\n",
    "        else:\n",
    "            label = -1.0\n",
    "        if label == test_label[i]:\n",
    "            count += 1\n",
    "        else:\n",
    "            count += 0\n",
    "    accuracy = count / np.size(test_label)\n",
    "  \n",
    "    return accuracy\n",
    "\n",
    "\n",
    "\n",
    "\n",
    "\n"
   ]
  },
  {
   "cell_type": "code",
   "execution_count": 242,
   "id": "a890adc0-2d43-4fd2-b0d8-8349c8654d3c",
   "metadata": {},
   "outputs": [],
   "source": [
    "# load data via path\n",
    "train_data_path = \"/Users/qinshaofeng/desktop/hw4_data/train_data.txt\"\n",
    "train_label_path = \"/Users/qinshaofeng/desktop/hw4_data/train_label.txt\"\n",
    "test_data_path = \"/Users/qinshaofeng/desktop/hw4_data/test_data.txt\"\n",
    "test_label_path = \"/Users/qinshaofeng/desktop/hw4_data/test_label.txt\"\n",
    "\n",
    "train_data = np.genfromtxt(train_data_path)\n",
    "train_label = np.genfromtxt(train_label_path)\n",
    "test_data = np.genfromtxt(test_data_path)\n",
    "test_label = np.genfromtxt(test_label_path)"
   ]
  },
  {
   "cell_type": "code",
   "execution_count": 243,
   "id": "c69c92bf-f57a-4f72-ab0f-ccbd3c1f75b9",
   "metadata": {},
   "outputs": [
    {
     "name": "stdout",
     "output_type": "stream",
     "text": [
      "1000 60\n"
     ]
    }
   ],
   "source": [
    "print(len(train_data), len(train_data[0]))"
   ]
  },
  {
   "cell_type": "code",
   "execution_count": 244,
   "id": "e4615753-45f1-4e2d-800f-3389ebab02ad",
   "metadata": {},
   "outputs": [
    {
     "name": "stdout",
     "output_type": "stream",
     "text": [
      "2175 60\n",
      "[-1. -1.  1. -1. -1.  1. -1. -1. -1. -1.  1. -1. -1. -1. -1.  1. -1.  1.\n",
      " -1. -1. -1. -1. -1.  1. -1. -1. -1.  1. -1.  1. -1.  1. -1.  1.  1.  1.\n",
      "  1. -1. -1. -1.  1. -1.  1.  1. -1.  1.  1.  1.  1.  1.  1. -1.  1. -1.\n",
      " -1.  1.  1. -1.  1. -1.  1.  1. -1. -1.  1. -1.  1. -1.  1. -1. -1. -1.\n",
      "  1.  1. -1.  1.  1. -1.  1.  1.  1.  1. -1. -1. -1. -1.  1.  1. -1.  1.\n",
      " -1. -1.  1. -1. -1. -1.  1.  1.  1. -1.  1. -1.  1. -1. -1. -1.  1.  1.\n",
      "  1. -1. -1. -1.  1. -1.  1.  1. -1. -1.  1. -1.  1.  1. -1. -1. -1. -1.\n",
      " -1.  1.  1. -1. -1.  1.  1.  1. -1.  1. -1.  1. -1. -1.  1.  1. -1. -1.\n",
      " -1.  1.  1.  1. -1.  1.  1.  1. -1. -1.  1.  1.  1.  1.  1.  1.  1. -1.\n",
      " -1. -1.  1.  1.  1.  1.  1. -1. -1.  1.  1.  1. -1. -1.  1. -1.  1.  1.\n",
      "  1. -1.  1.  1.  1. -1.  1.  1. -1. -1.  1.  1.  1.  1.  1. -1. -1. -1.\n",
      " -1. -1.]\n"
     ]
    }
   ],
   "source": [
    "print(len(test_data), len(test_data[0]))\n",
    "print(test_label[:200])"
   ]
  },
  {
   "cell_type": "code",
   "execution_count": 245,
   "id": "eda4048c-e5eb-4ae6-b694-95de4d43c9d0",
   "metadata": {},
   "outputs": [],
   "source": [
    "def preprocessing(train_data, test_data):\n",
    "    train_size, feature_size = len(train_data), len(train_data[0])\n",
    "    test_size, _ = len(test_data), len(test_data[0])\n",
    "\n",
    "    standardlized_train, standardlized_test = np.zeros((train_size, feature_size)), np.zeros((test_size, feature_size))\n",
    "\n",
    "    sum_train = np.zeros(feature_size)\n",
    "\n",
    "    avg_train = np.zeros(feature_size)\n",
    "\n",
    "\n",
    "    for i in range(feature_size):\n",
    "        for j in range(train_size):\n",
    "            sum_train[i] += train_data[j, i]\n",
    "            \n",
    "    avg_train = sum_train/train_size\n",
    "\n",
    "\n",
    "    std_train = np.zeros(feature_size)\n",
    "    std_test = np.zeros(feature_size)\n",
    "    diff_train = np.zeros(feature_size)\n",
    "    diff_test = np.zeros(feature_size)\n",
    "\n",
    "    for i in range(feature_size):\n",
    "        for j in range(train_size):\n",
    "            diff_train[i] += (train_data[j, i] - avg_train[i])**2\n",
    "        # standard deviation for train feature i\n",
    "        std_train[i] = (diff_train[i] / (train_size - 1))**(1/2)\n",
    "    \n",
    "    for i in range(feature_size):\n",
    "        for j in range(test_size):\n",
    "            diff_test[i] += (test_data[j, i] - avg_train[i])**2\n",
    "        # standard deviation for test feature i\n",
    "        std_test[i] = (diff_test[i] / (test_size - 1))**(1/2)\n",
    "    \n",
    "    #transform train ds and test ds with std, and med\n",
    "\n",
    "    for i in range(train_size):\n",
    "        for j in range(feature_size):\n",
    "            standardlized_train[i][j] = (train_data[i][j] - avg_train[j])/std_train[j]\n",
    "        \n",
    "        \n",
    "    for i in range(test_size):\n",
    "        for j in range(feature_size):\n",
    "            standardlized_test[i][j] = (test_data[i][j] - avg_train[j])/std_train[j]\n",
    "            \n",
    "    print(\"3rd mean = \", avg_train[2])\n",
    "    print(\"3rd standard deviation = \", std_train[2])\n",
    "    print(\"10nd mean = \", avg_train[9])\n",
    "    print(\"10nd mean = \", std_train[9])\n",
    "        \n",
    "\n",
    "    return standardlized_train, standardlized_test\n",
    "        \n",
    "        \n"
   ]
  },
  {
   "cell_type": "code",
   "execution_count": 291,
   "id": "51b39bb1-1bdb-4d46-bad9-a4bca43457d1",
   "metadata": {},
   "outputs": [
    {
     "name": "stdout",
     "output_type": "stream",
     "text": [
      "3rd mean =  2.54\n",
      "3rd standard deviation =  1.0749676997731392\n",
      "10nd mean =  2.527\n",
      "10nd mean =  1.1245156893238686\n"
     ]
    }
   ],
   "source": [
    "standardlized_train, standardlized_test = preprocessing(train_data, test_data)"
   ]
  },
  {
   "cell_type": "markdown",
   "id": "9fab113b-9979-4a3c-b0ae-394b42a06b40",
   "metadata": {},
   "source": [
    "The mean and standard deviation should be estimated from the training data and then applied to both datasets, because we train or build the model on train dataset not the test dataset, so we should realy summary statistics like mean or std based only on training dataset, and apply the parameters and model to the test dataset later for prediction or evaluation."
   ]
  },
  {
   "cell_type": "code",
   "execution_count": 286,
   "id": "1821c3d3-95bf-4a16-826d-150cbd123792",
   "metadata": {},
   "outputs": [
    {
     "name": "stdout",
     "output_type": "stream",
     "text": [
      "3rd mean =  2.54\n",
      "3rd standard deviation =  1.0749676997731392\n",
      "10nd mean =  2.527\n",
      "10nd mean =  1.1245156893238686\n"
     ]
    }
   ],
   "source": [
    "standardlized_train, standardlized_test = preprocessing(train_data, test_data)\n",
    "#print(len(standardlized_train), len(standardlized_train[0]))\n",
    "#print(len(standardlized_test), len(standardlized_test[0]))\n",
    "C = 4**(8)\n",
    "w,b = train_svm(standardlized_train, train_label, C)\n"
   ]
  },
  {
   "cell_type": "code",
   "execution_count": 287,
   "id": "3bcb9e27-15f2-4637-8671-dde469e61380",
   "metadata": {},
   "outputs": [
    {
     "data": {
      "text/plain": [
       "0.623448275862069"
      ]
     },
     "execution_count": 287,
     "metadata": {},
     "output_type": "execute_result"
    }
   ],
   "source": [
    "test_svm(standardlized_test, test_label, w, b)"
   ]
  },
  {
   "cell_type": "code",
   "execution_count": 254,
   "id": "a1725398-d34c-4f86-9664-245e24bcc618",
   "metadata": {},
   "outputs": [],
   "source": [
    "# using k fold\n",
    "\n",
    "def kfold_cross(train_data, train_label, K, C):\n",
    "    region = train_data.shape[0]//K\n",
    "    acc = [0]*K\n",
    "    for i in range(K):\n",
    "        skip = np.arange(region*i, region*(i+1))\n",
    "        train_data_copy, train_label_copy = train_data, train_label\n",
    "        # delete the corresponding region\n",
    "        train_data_ds = np.delete(train_data_copy, skip, axis = 0)\n",
    "        train_label_ds = np.delete(train_label_copy, skip, axis = 0)\n",
    "        val_data_ds = train_data[region*i : region*(i+1)]\n",
    "        val_label_ds = train_label[region*i : region*(i+1)]\n",
    "        w,b = train_svm(train_data_ds, train_label_ds, C)\n",
    "        acc[i] = test_svm(val_data_ds, val_label_ds, w, b)\n",
    "        \n",
    "    return np.sum(acc)/K\n",
    "        \n",
    "    "
   ]
  },
  {
   "cell_type": "code",
   "execution_count": 258,
   "id": "4be4b6db-07bb-4dc4-80f0-652ed5aa3a8e",
   "metadata": {},
   "outputs": [
    {
     "name": "stdout",
     "output_type": "stream",
     "text": [
      "[0.501, 0.788, 0.781, 0.751, 0.774, 0.781, 0.784, 0.7849999999999999, 0.784, 0.784, 0.784, 0.784, 0.765]\n"
     ]
    },
    {
     "data": {
      "image/png": "[encoded data removed]",
      "text/plain": [
       "<Figure size 432x288 with 1 Axes>"
      ]
     },
     "metadata": {
      "needs_background": "light"
     },
     "output_type": "display_data"
    }
   ],
   "source": [
    "\n",
    "K = 5\n",
    "acc_list = []\n",
    "C_list = [4 ** (i-6) for i in range(13)]\n",
    "\n",
    "for C in C_list:\n",
    "    acc = kfold_cross(train_data, train_label, K, C)\n",
    "    acc_list.append(acc)\n",
    "    \n",
    "print(\"the 5-fold cross-validation accuracy (averaged accuracy over each validation set) on different value of C is: \", acc_list)\n",
    "x = [(i-6) for i in range(13)]\n",
    "y = acc_list\n",
    "plt.plot(x,y)\n",
    "plt.xlabel(\"power of C (4^(x))\")\n",
    "plt.ylabel(\"cross-validation accuracy\")\n",
    "plt.title(\"cross-validation accuracy v.s power of C\")\n",
    "plt.show()"
   ]
  },
  {
   "cell_type": "code",
   "execution_count": 289,
   "id": "00a2c988-5d1f-49da-b0cf-ac25dbf0dbde",
   "metadata": {},
   "outputs": [
    {
     "data": {
      "text/plain": [
       "0.728"
      ]
     },
     "execution_count": 289,
     "metadata": {},
     "output_type": "execute_result"
    }
   ],
   "source": [
    "C = 4**10\n",
    "kfold_cross(train_data, train_label, K, C)"
   ]
  },
  {
   "cell_type": "markdown",
   "id": "5ef14a0f-cc7e-4982-b2c5-2e12948ceaeb",
   "metadata": {},
   "source": [
    "(a) For initial small C (power of -6), the accuracy is low, and when we increase to 4^(-5), the accuracy significantly increases to 0.788,\n",
    "and for larger C, the cross-validation accuracy oscillates and start droping when we increase power to 6. And I tried even larger power, and proved it will drop to 0.728 for C = 4^10. The accuracies are shown above.\n",
    "\n",
    "The reason behind this is if we choose too large C, we add heavier penalization on outliers(harder boundary) and for non linear separable dataset, this will cause mis-classification on some instances and decreases the accuracy.\n",
    "\n",
    "However, if we choose too small C value and we will make the boundary too soft to make a larger-margin separating hyperplane, even if that hyperplane misclassifies more points. For small values of C, there might be misclassified instances, even though the training data is linearly separable. This will also cause the accuracy drops. So we should choose the C value within a range and choose it wisely.\n",
    "\n",
    "(b) based on the averaged cross-validation accuracy, I will choose C = 4^(-5) that gives the higehst averaged cross-validation accuracy on dataset.\n",
    "\n",
    "\n",
    "(c) For the selected value of C = 4^(-5), the SVM test accuracy on test dataset is 0.848 or approximately 85%. The computation is shown below:\n",
    "\n",
    "\n",
    "\n"
   ]
  },
  {
   "cell_type": "code",
   "execution_count": 290,
   "id": "0ca11b44-be72-442e-9f24-019c4fb18796",
   "metadata": {},
   "outputs": [
    {
     "data": {
      "text/plain": [
       "0.8482758620689655"
      ]
     },
     "execution_count": 290,
     "metadata": {},
     "output_type": "execute_result"
    }
   ],
   "source": [
    "C = 4**(-5)\n",
    "w,b = train_svm(standardlized_train, train_label, C)\n",
    "test_svm(standardlized_test, test_label, w, b)"
   ]
  },
  {
   "cell_type": "code",
   "execution_count": null,
   "id": "7eafebe1-12b1-4222-ade7-c806f8514226",
   "metadata": {},
   "outputs": [],
   "source": []
  }
 ],
 "metadata": {
  "kernelspec": {
   "display_name": "Python 3 (ipykernel)",
   "language": "python",
   "name": "python3"
  },
  "language_info": {
   "codemirror_mode": {
    "name": "ipython",
    "version": 3
   },
   "file_extension": ".py",
   "mimetype": "text/x-python",
   "name": "python",
   "nbconvert_exporter": "python",
   "pygments_lexer": "ipython3",
   "version": "3.9.7"
  }
 },
 "nbformat": 4,
 "nbformat_minor": 5
}
