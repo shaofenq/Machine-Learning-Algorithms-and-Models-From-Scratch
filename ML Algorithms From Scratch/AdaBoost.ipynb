{
 "cells": [
  {
   "cell_type": "markdown",
   "metadata": {},
   "source": [
    "# Implement AdaBoost with decision stumps, i.e., 1-level decision trees\n",
    "In this question, you will implement the AdaBoost algorithm with decision stumps, i.e., 1-level decision trees.\n",
    "You will need to implement the adaboost algorithm from scratch and train and test the classi\f",
    "er on the\n",
    "dataset provided"
   ]
  },
  {
   "cell_type": "code",
   "execution_count": 18,
   "metadata": {},
   "outputs": [],
   "source": [
    "import numpy as np\n",
    "import matplotlib.pyplot as plt\n",
    "import math"
   ]
  },
  {
   "cell_type": "code",
   "execution_count": 19,
   "metadata": {},
   "outputs": [],
   "source": [
    "# Decision stump h as each weak classifier\n",
    "# [axis,threshold,polarity,beta] where beta is the weight/contribution of the current weak classifier\n",
    "class DecisionStump():\n",
    "    def __init__(self):\n",
    "        self.polarity = 1\n",
    "        self.axis = None\n",
    "        self.threshold = None\n",
    "        # weak classifier's contribution\n",
    "        self.beta = None"
   ]
  },
  {
   "cell_type": "code",
   "execution_count": 20,
   "metadata": {},
   "outputs": [],
   "source": [
    "class AdaBoost:\n",
    "    def __init__(self, X, y, T):\n",
    "        # Initialize the model\n",
    "        # X: data points\n",
    "        # y: labels\n",
    "        # T: number of iterations\n",
    "        # w: weights\n",
    "        # N: number of training data points\n",
    "\n",
    "        self.X = X\n",
    "        self.y = y\n",
    "        self.T = T\n",
    "        self.N = X.shape[0]\n",
    "        \n",
    "        # initialize weight --> update later for each each iteration\n",
    "        self.w = np.ones(self.N) / self.N\n",
    "        \n",
    "        # record the weak classifiers\n",
    "        self.clfs = []\n",
    "        \n",
    "\n",
    "    def find_next_weak_Learner(self):\n",
    "        # Find best decision stump\n",
    "        # Output should define the axis, threshold, polarity and weight of the decision stump\n",
    "        # You should also update the weights of the data points here\n",
    "\n",
    "        # TODO\n",
    "        clf = DecisionStump()\n",
    "        \n",
    "        # minimize error over each feature in X for each distincy value --> find proper threshold\n",
    "        min_error = math.inf\n",
    "        \n",
    "        feature_size = self.X.shape[1]\n",
    "        \n",
    "        for i in range(feature_size):\n",
    "            feature_vals = np.expand_dims(self.X[:, i], axis=1)\n",
    "            unique_column_vals = np.unique(feature_vals)\n",
    "            for thresh in unique_column_vals:\n",
    "                polarity = 1\n",
    "                prediction = np.ones(np.shape(self.y))\n",
    "                # mark labels of data points who are below threshold as -1\n",
    "                prediction[self.X[:, i] < thresh] = -1\n",
    "                # Error = sum of weights of misclassified samples\n",
    "                error = sum(self.w[self.y != prediction])\n",
    "                # flip error and polarity in case error is larger than 0.5 --> adjust polarity\n",
    "                if error > 0.5:\n",
    "                    error = 1 - error\n",
    "                    polarity = -1\n",
    "                if error < min_error:\n",
    "                    clf.polarity = polarity\n",
    "                    clf.threshold = thresh\n",
    "                    clf.axis = i\n",
    "                    min_error = error\n",
    "        # compute beta\n",
    "        clf.beta = (1/2) * math.log((1.0 - min_error) / (min_error + 1e-8)) # in case zero factor\n",
    "        # compute h_t(x), the prediction using current weak classifier\n",
    "        hs = np.ones(np.shape(self.y))\n",
    "        neg_idx = (clf.polarity * self.X[:, clf.axis] < clf.polarity * clf.threshold)\n",
    "        hs[neg_idx] = -1\n",
    "        # update sample weights\n",
    "        self.w *= np.exp(-clf.beta * self.y * hs)\n",
    "        # normalize sample weight w\n",
    "        self.w /= np.sum(self.w)\n",
    "        \n",
    "        # record the current weak classifier to the classifier list\n",
    "        self.clfs.append(clf)\n",
    "                \n",
    "\n",
    "\n",
    "    def train(self):\n",
    "        # Train the model for T iterations\n",
    "        self.clfs = []\n",
    "        for t in range(self.T):\n",
    "            # Train weak learner\n",
    "            # TODO\n",
    "            self.find_next_weak_Learner()\n",
    "            \n",
    "    \n",
    "    def predict_K(self, X, K):\n",
    "        # Compute prediction of the model for X using first K weak learners\n",
    "        # Output should be a vector of labels of length X.shape[0]\n",
    "        # TODO\n",
    "        n_samples = np.shape(X)[0]\n",
    "        y_pred = np.zeros((n_samples, 1))\n",
    "        # For each classifier => label the samples\n",
    "        for clf in self.clfs[:K]:\n",
    "            # compute prediction\n",
    "            hs = np.ones(np.shape(y_pred))\n",
    "            neg_idx = (clf.polarity * X[:, clf.axis] < clf.polarity * clf.threshold)\n",
    "            hs[neg_idx] = -1\n",
    "            # add weighted prediction \n",
    "            y_pred += clf.beta * hs\n",
    "\n",
    "        # return sign of prediction sum\n",
    "        y_pred = np.sign(y_pred)\n",
    "\n",
    "        return y_pred\n",
    "        \n",
    "\n",
    "    def accuracy_K(self, X, y, K):\n",
    "        # Compute accuracy of the model for (X, y) using first K weak learners\n",
    "        # Output should be a scalar in [0, 1]\n",
    "        # TODO\n",
    "        true_count = 0\n",
    "        y_pred = self.predict_K(X, K)\n",
    "        for i in range(len(X)):\n",
    "            if y_pred[i] == y[i]:\n",
    "                true_count += 1\n",
    "        return true_count/len(X)\n",
    "\n",
    "    def scatter_plot(self):\n",
    "        # Plot the data points and the decision boundary\n",
    "        # You need not edit this function as long as you have defined the predict_K function properly \n",
    "        X = np.asarray([[x_cor, y_cor] for x_cor in np.linspace(np.amin(self.X[:, 0]), np.amax(self.X[:, 0]), 500) for y_cor in np.linspace(np.amin(self.X[:, 1]), np.amax(self.X[:, 1]), 500)])\n",
    "\n",
    "        fig, ax = plt.subplots(3, 3, figsize=(30, 30))\n",
    "\n",
    "        for i, K in enumerate([1, 5, 10, 20, 30, 100, 200, 400, 600]):\n",
    "            # Plot the data points and the decision boundary using k weak learners\n",
    "            print(\"Plotting the data points and the decision boundary using {} weak learners\".format(K))\n",
    "            Z_pred = self.predict_K(X, K)\n",
    "\n",
    "            ax[i // 3, i % 3].scatter(X[:, 0], X[:, 1], c=['white' if z == 1 else 'orange' for z in Z_pred], s=1)\n",
    "            for numpoint, point in enumerate(self.X):\n",
    "                ax[i // 3, i % 3].scatter(point[0], point[1], c='black' if self.y[numpoint]==1 else 'red', marker='x' if self.y[numpoint]==1 else 'o')\n",
    "            ax[i // 3, i % 3].set_title(\"K = {}\".format(K), fontsize=20)\n",
    "        plt.show()"
   ]
  },
  {
   "cell_type": "markdown",
   "metadata": {},
   "source": [
    "# Code for Training Routine\n",
    "### Load Data"
   ]
  },
  {
   "cell_type": "code",
   "execution_count": 21,
   "metadata": {},
   "outputs": [],
   "source": [
    "#---------------Read the training and testing files\n",
    "training_data=np.genfromtxt('train_adaboost.csv', delimiter=',')\n",
    "X_train = training_data[:,0:2]\n",
    "y_train = training_data[:,2]\n",
    "\n",
    "testing_data=np.genfromtxt('test_adaboost.csv', delimiter=',')\n",
    "X_test = testing_data[:,0:2]\n",
    "y_test = testing_data[:,2]"
   ]
  },
  {
   "cell_type": "markdown",
   "metadata": {},
   "source": [
    "### Data Visualization"
   ]
  },
  {
   "cell_type": "code",
   "execution_count": 22,
   "metadata": {},
   "outputs": [
    {
     "data": {
      "text/plain": [
       "Text(0.5, 1.0, 'Training data')"
      ]
     },
     "execution_count": 22,
     "metadata": {},
     "output_type": "execute_result"
    },
    {
     "data": {
      "image/png": "[encoded data removed]",
      "text/plain": [
       "<Figure size 432x288 with 1 Axes>"
      ]
     },
     "metadata": {
      "needs_background": "light"
     },
     "output_type": "display_data"
    }
   ],
   "source": [
    "#---------------Plot the training data\n",
    "fig, ax = plt.subplots()\n",
    "for numpoint, point in enumerate(X_train):\n",
    "    ax.scatter(point[0], point[1], c='black' if y_train[numpoint]==1 else 'red', marker='x' if y_train[numpoint]==1 else 'o')\n",
    "ax.set_title('Training data')"
   ]
  },
  {
   "cell_type": "markdown",
   "metadata": {},
   "source": [
    "### Start Training"
   ]
  },
  {
   "cell_type": "code",
   "execution_count": 23,
   "metadata": {},
   "outputs": [],
   "source": [
    "T=600\n",
    "\n",
    "# Start training\n",
    "train_adaboost = AdaBoost(X_train, y_train, T)\n",
    "train_adaboost.train()"
   ]
  },
  {
   "cell_type": "markdown",
   "metadata": {},
   "source": [
    "### Plot training and testing accuracy"
   ]
  },
  {
   "cell_type": "code",
   "execution_count": 24,
   "metadata": {},
   "outputs": [
    {
     "data": {
      "image/png": "[encoded data removed]",
      "text/plain": [
       "<Figure size 432x288 with 1 Axes>"
      ]
     },
     "metadata": {
      "needs_background": "light"
     },
     "output_type": "display_data"
    }
   ],
   "source": [
    "# Plot training data accuracy\n",
    "accuracy_score = []\n",
    "for t in range(T):\n",
    "    accuracy_score.append(train_adaboost.accuracy_K(X_train, y_train, t + 1))\n",
    "plt.plot(range(1, T + 1), accuracy_score)\n",
    "plt.xlabel('Number of weak learners')\n",
    "plt.ylabel('Accuracy')\n",
    "plt.title('Training data accuracy')\n",
    "plt.show()"
   ]
  },
  {
   "cell_type": "code",
   "execution_count": 25,
   "metadata": {},
   "outputs": [
    {
     "data": {
      "image/png": "[encoded data removed]",
      "text/plain": [
       "<Figure size 432x288 with 1 Axes>"
      ]
     },
     "metadata": {
      "needs_background": "light"
     },
     "output_type": "display_data"
    }
   ],
   "source": [
    "# Plot testing data accuracy\n",
    "accuracy_score = []\n",
    "for t in range(T):\n",
    "    accuracy_score.append(train_adaboost.accuracy_K(X_test, y_test, t + 1))\n",
    "plt.plot(range(1, T + 1), accuracy_score)\n",
    "plt.xlabel('Number of weak learners')\n",
    "plt.ylabel('Accuracy')\n",
    "plt.title('Testing data accuracy')\n",
    "plt.show()"
   ]
  },
  {
   "cell_type": "markdown",
   "metadata": {},
   "source": [
    "### Plot the data points and the decision boundary using k weak learners"
   ]
  },
  {
   "cell_type": "code",
   "execution_count": null,
   "metadata": {},
   "outputs": [
    {
     "name": "stdout",
     "output_type": "stream",
     "text": [
      "Plotting the data points and the decision boundary using 1 weak learners\n",
      "Plotting the data points and the decision boundary using 5 weak learners\n",
      "Plotting the data points and the decision boundary using 10 weak learners\n",
      "Plotting the data points and the decision boundary using 20 weak learners\n",
      "Plotting the data points and the decision boundary using 30 weak learners\n",
      "Plotting the data points and the decision boundary using 100 weak learners\n",
      "Plotting the data points and the decision boundary using 200 weak learners\n",
      "Plotting the data points and the decision boundary using 400 weak learners\n",
      "Plotting the data points and the decision boundary using 600 weak learners\n"
     ]
    }
   ],
   "source": [
    "train_adaboost.scatter_plot()"
   ]
  },
  {
   "cell_type": "code",
   "execution_count": null,
   "metadata": {},
   "outputs": [],
   "source": []
  }
 ],
 "metadata": {
  "kernelspec": {
   "display_name": "Python 3 (ipykernel)",
   "language": "python",
   "name": "python3"
  },
  "language_info": {
   "codemirror_mode": {
    "name": "ipython",
    "version": 3
   },
   "file_extension": ".py",
   "mimetype": "text/x-python",
   "name": "python",
   "nbconvert_exporter": "python",
   "pygments_lexer": "ipython3",
   "version": "3.9.7"
  },
  "vscode": {
   "interpreter": {
    "hash": "31f2aee4e71d21fbe5cf8b01ff0e069b9275f58929596ceb00d14d90e3e16cd6"
   }
  }
 },
 "nbformat": 4,
 "nbformat_minor": 4
}
